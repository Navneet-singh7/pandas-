{
 "cells": [
  {
   "cell_type": "code",
   "execution_count": 2,
   "id": "63a87224",
   "metadata": {},
   "outputs": [],
   "source": [
    "import pandas as pd"
   ]
  },
  {
   "cell_type": "code",
   "execution_count": 8,
   "id": "b69a1610",
   "metadata": {},
   "outputs": [
    {
     "name": "stdout",
     "output_type": "stream",
     "text": [
      "pen       10.1\n",
      "book      20.2\n",
      "pencil    30.3\n",
      "scale     40.4\n",
      "dtype: float64\n"
     ]
    }
   ],
   "source": [
    "list=[10.1,20.2,30.3,40.4]\n",
    "productseries=pd.Series(list,index=[\"pen\",\"book\",\"pencil\",\"scale\"])\n",
    "print(productseries)"
   ]
  },
  {
   "cell_type": "code",
   "execution_count": 13,
   "id": "0d678e7c",
   "metadata": {},
   "outputs": [
    {
     "data": {
      "text/plain": [
       "navneet    1\n",
       "iefb       2\n",
       "iev        3\n",
       "jinrn      4\n",
       "ebhveb     5\n",
       "dtype: int64"
      ]
     },
     "execution_count": 13,
     "metadata": {},
     "output_type": "execute_result"
    }
   ],
   "source": [
    "list=[1,2,3,4,5]\n",
    "student=pd.Series(list,index=[\"navneet\",\"iefb\",\"iev\",\"jinrn\",\"ebhveb\"])\n",
    "student"
   ]
  },
  {
   "cell_type": "code",
   "execution_count": 24,
   "id": "539fae2a",
   "metadata": {},
   "outputs": [
    {
     "data": {
      "text/plain": [
       "rainy    0.166667\n",
       "snow     0.013393\n",
       "rainy    0.004464\n",
       "snow     0.000075\n",
       "dtype: float64"
      ]
     },
     "execution_count": 24,
     "metadata": {},
     "output_type": "execute_result"
    }
   ],
   "source": [
    "date=[1/2/3,3/4/56,1/4/56,1/34/56/7]\n",
    "df=pd.Series(date,index=[\"rainy\",\"snow\",\"rainy\",\"snow\"])\n",
    "df"
   ]
  },
  {
   "cell_type": "code",
   "execution_count": 26,
   "id": "46e8c302",
   "metadata": {},
   "outputs": [
    {
     "name": "stdout",
     "output_type": "stream",
     "text": [
      "Dtaframe:\n",
      "    pen  shirt  pencil  book\n",
      "0  100    200     300   400\n",
      "1    4      5       6     7\n",
      "dimensions of c: (2, 4)\n",
      "size of c: 8\n",
      "name of columns are: Index(['pen', 'shirt', 'pencil', 'book'], dtype='object')\n"
     ]
    }
   ],
   "source": [
    "c=pd.DataFrame([[100,200,300,400],[4,5,6,7]],columns=[\"pen\",\"shirt\",\"pencil\",\"book\"])\n",
    "print(\"Dtaframe:\\n\",c)\n",
    "print(\"dimensions of c:\",c.shape)\n",
    "print(\"size of c:\",c.size)\n",
    "print(\"name of columns are:\",c.keys())"
   ]
  },
  {
   "cell_type": "code",
   "execution_count": 21,
   "id": "d5d7c545",
   "metadata": {},
   "outputs": [
    {
     "data": {
      "text/html": [
       "<div>\n",
       "<style scoped>\n",
       "    .dataframe tbody tr th:only-of-type {\n",
       "        vertical-align: middle;\n",
       "    }\n",
       "\n",
       "    .dataframe tbody tr th {\n",
       "        vertical-align: top;\n",
       "    }\n",
       "\n",
       "    .dataframe thead th {\n",
       "        text-align: right;\n",
       "    }\n",
       "</style>\n",
       "<table border=\"1\" class=\"dataframe\">\n",
       "  <thead>\n",
       "    <tr style=\"text-align: right;\">\n",
       "      <th></th>\n",
       "      <th>date</th>\n",
       "      <th>country</th>\n",
       "      <th>temperature</th>\n",
       "    </tr>\n",
       "  </thead>\n",
       "  <tbody>\n",
       "    <tr>\n",
       "      <th>0</th>\n",
       "      <td>1/2/3</td>\n",
       "      <td>india</td>\n",
       "      <td>23</td>\n",
       "    </tr>\n",
       "    <tr>\n",
       "      <th>1</th>\n",
       "      <td>2/3/4</td>\n",
       "      <td>india</td>\n",
       "      <td>45</td>\n",
       "    </tr>\n",
       "    <tr>\n",
       "      <th>2</th>\n",
       "      <td>3/4/5</td>\n",
       "      <td>usa</td>\n",
       "      <td>56</td>\n",
       "    </tr>\n",
       "    <tr>\n",
       "      <th>3</th>\n",
       "      <td>2/7/4</td>\n",
       "      <td>usa</td>\n",
       "      <td>40</td>\n",
       "    </tr>\n",
       "    <tr>\n",
       "      <th>4</th>\n",
       "      <td>2/3/9</td>\n",
       "      <td>canada</td>\n",
       "      <td>39</td>\n",
       "    </tr>\n",
       "    <tr>\n",
       "      <th>5</th>\n",
       "      <td>1/3/4</td>\n",
       "      <td>canada</td>\n",
       "      <td>60</td>\n",
       "    </tr>\n",
       "  </tbody>\n",
       "</table>\n",
       "</div>"
      ],
      "text/plain": [
       "    date country temperature\n",
       "0  1/2/3   india          23\n",
       "1  2/3/4   india          45\n",
       "2  3/4/5     usa          56\n",
       "3  2/7/4     usa          40\n",
       "4  2/3/9  canada          39\n",
       "5  1/3/4  canada          60"
      ]
     },
     "execution_count": 21,
     "metadata": {},
     "output_type": "execute_result"
    }
   ],
   "source": [
    "import pandas as pd \n",
    "weather=[{'date':'1/2/3','country':'india','temperature':'23'},{'date':'2/3/4','country':'india','temperature':'45'},{'date':'3/4/5','country':'usa','temperature':'56'},{'date':'2/7/4','country':'usa','temperature':'40'},{'date':'2/3/9','country':'canada','temperature':'39'},{'date':'1/3/4','country':'canada','temperature':'60'}]\n",
    "df1=pd.DataFrame(weather)\n",
    "df1"
   ]
  },
  {
   "cell_type": "code",
   "execution_count": 22,
   "id": "dd495215",
   "metadata": {},
   "outputs": [],
   "source": [
    "g=df1.groupby(\"country\")"
   ]
  },
  {
   "cell_type": "code",
   "execution_count": 23,
   "id": "ba283507",
   "metadata": {},
   "outputs": [
    {
     "name": "stdout",
     "output_type": "stream",
     "text": [
      "canada\n",
      "    date country temperature\n",
      "4  2/3/9  canada          39\n",
      "5  1/3/4  canada          60\n",
      "india\n",
      "    date country temperature\n",
      "0  1/2/3   india          23\n",
      "1  2/3/4   india          45\n",
      "usa\n",
      "    date country temperature\n",
      "2  3/4/5     usa          56\n",
      "3  2/7/4     usa          40\n"
     ]
    }
   ],
   "source": [
    "for country,country_df in g:\n",
    "    print(country)\n",
    "    print(country_df)"
   ]
  },
  {
   "cell_type": "code",
   "execution_count": 24,
   "id": "079f4be3",
   "metadata": {},
   "outputs": [
    {
     "data": {
      "text/plain": [
       "country\n",
       "canada    60\n",
       "india     45\n",
       "usa       56\n",
       "Name: temperature, dtype: object"
      ]
     },
     "execution_count": 24,
     "metadata": {},
     "output_type": "execute_result"
    }
   ],
   "source": [
    "g['temperature'].max()"
   ]
  },
  {
   "cell_type": "code",
   "execution_count": 29,
   "id": "51d9f519",
   "metadata": {},
   "outputs": [
    {
     "data": {
      "text/html": [
       "<div>\n",
       "<style scoped>\n",
       "    .dataframe tbody tr th:only-of-type {\n",
       "        vertical-align: middle;\n",
       "    }\n",
       "\n",
       "    .dataframe tbody tr th {\n",
       "        vertical-align: top;\n",
       "    }\n",
       "\n",
       "    .dataframe thead th {\n",
       "        text-align: right;\n",
       "    }\n",
       "</style>\n",
       "<table border=\"1\" class=\"dataframe\">\n",
       "  <thead>\n",
       "    <tr style=\"text-align: right;\">\n",
       "      <th></th>\n",
       "      <th>temperature</th>\n",
       "    </tr>\n",
       "    <tr>\n",
       "      <th>country</th>\n",
       "      <th></th>\n",
       "    </tr>\n",
       "  </thead>\n",
       "  <tbody>\n",
       "    <tr>\n",
       "      <th>canada</th>\n",
       "      <td>1980.0</td>\n",
       "    </tr>\n",
       "    <tr>\n",
       "      <th>india</th>\n",
       "      <td>1172.5</td>\n",
       "    </tr>\n",
       "    <tr>\n",
       "      <th>usa</th>\n",
       "      <td>2820.0</td>\n",
       "    </tr>\n",
       "  </tbody>\n",
       "</table>\n",
       "</div>"
      ],
      "text/plain": [
       "         temperature\n",
       "country             \n",
       "canada        1980.0\n",
       "india         1172.5\n",
       "usa           2820.0"
      ]
     },
     "execution_count": 29,
     "metadata": {},
     "output_type": "execute_result"
    }
   ],
   "source": [
    "a=g.mean()\n",
    "a"
   ]
  },
  {
   "cell_type": "code",
   "execution_count": 26,
   "id": "dbdf29fb",
   "metadata": {},
   "outputs": [
    {
     "data": {
      "text/html": [
       "<div>\n",
       "<style scoped>\n",
       "    .dataframe tbody tr th:only-of-type {\n",
       "        vertical-align: middle;\n",
       "    }\n",
       "\n",
       "    .dataframe tbody tr th {\n",
       "        vertical-align: top;\n",
       "    }\n",
       "\n",
       "    .dataframe thead th {\n",
       "        text-align: right;\n",
       "    }\n",
       "</style>\n",
       "<table border=\"1\" class=\"dataframe\">\n",
       "  <thead>\n",
       "    <tr style=\"text-align: right;\">\n",
       "      <th></th>\n",
       "      <th>date</th>\n",
       "      <th>country</th>\n",
       "      <th>temperature</th>\n",
       "    </tr>\n",
       "  </thead>\n",
       "  <tbody>\n",
       "    <tr>\n",
       "      <th>2</th>\n",
       "      <td>3/4/5</td>\n",
       "      <td>usa</td>\n",
       "      <td>56</td>\n",
       "    </tr>\n",
       "    <tr>\n",
       "      <th>3</th>\n",
       "      <td>2/7/4</td>\n",
       "      <td>usa</td>\n",
       "      <td>40</td>\n",
       "    </tr>\n",
       "  </tbody>\n",
       "</table>\n",
       "</div>"
      ],
      "text/plain": [
       "    date country temperature\n",
       "2  3/4/5     usa          56\n",
       "3  2/7/4     usa          40"
      ]
     },
     "execution_count": 26,
     "metadata": {},
     "output_type": "execute_result"
    }
   ],
   "source": [
    "g.get_group('usa')"
   ]
  },
  {
   "cell_type": "code",
   "execution_count": 30,
   "id": "8431f5dd",
   "metadata": {},
   "outputs": [
    {
     "data": {
      "text/plain": [
       "<AxesSubplot:xlabel='country'>"
      ]
     },
     "execution_count": 30,
     "metadata": {},
     "output_type": "execute_result"
    },
    {
     "data": {
      "image/png": "[encoded data removed]",
      "text/plain": [
       "<Figure size 432x288 with 1 Axes>"
      ]
     },
     "metadata": {
      "needs_background": "light"
     },
     "output_type": "display_data"
    }
   ],
   "source": [
    "%matplotlib inline\n",
    "a.plot()"
   ]
  },
  {
   "cell_type": "code",
   "execution_count": null,
   "id": "dd8dc93d",
   "metadata": {},
   "outputs": [],
   "source": []
  },
  {
   "cell_type": "code",
   "execution_count": null,
   "id": "f78a21f0",
   "metadata": {},
   "outputs": [],
   "source": []
  },
  {
   "cell_type": "code",
   "execution_count": null,
   "id": "f15717d7",
   "metadata": {},
   "outputs": [],
   "source": []
  },
  {
   "cell_type": "code",
   "execution_count": null,
   "id": "2312552a",
   "metadata": {},
   "outputs": [],
   "source": []
  },
  {
   "cell_type": "code",
   "execution_count": null,
   "id": "1709b6e0",
   "metadata": {},
   "outputs": [],
   "source": []
  },
  {
   "cell_type": "code",
   "execution_count": null,
   "id": "73863dd2",
   "metadata": {},
   "outputs": [],
   "source": []
  },
  {
   "cell_type": "code",
   "execution_count": null,
   "id": "a4ec4c8d",
   "metadata": {},
   "outputs": [],
   "source": []
  }
 ],
 "metadata": {
  "kernelspec": {
   "display_name": "Python 3 (ipykernel)",
   "language": "python",
   "name": "python3"
  },
  "language_info": {
   "codemirror_mode": {
    "name": "ipython",
    "version": 3
   },
   "file_extension": ".py",
   "mimetype": "text/x-python",
   "name": "python",
   "nbconvert_exporter": "python",
   "pygments_lexer": "ipython3",
   "version": "3.9.7"
  }
 },
 "nbformat": 4,
 "nbformat_minor": 5
}
